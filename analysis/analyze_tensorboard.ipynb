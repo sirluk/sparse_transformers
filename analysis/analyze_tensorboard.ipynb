{
 "cells": [
  {
   "cell_type": "code",
   "execution_count": 1,
   "metadata": {},
   "outputs": [],
   "source": [
    "import os\n",
    "import re\n",
    "import pandas as pd\n",
    "import numpy as np\n",
    "from matplotlib import pyplot as plt\n",
    "import seaborn as sns\n",
    "from scipy import stats\n",
    "from tensorboard.backend.event_processing import event_accumulator\n",
    "import pickle"
   ]
  },
  {
   "cell_type": "code",
   "execution_count": 2,
   "metadata": {},
   "outputs": [],
   "source": [
    "def parse_tensorboard(path, scalars = None):\n",
    "    \"\"\"returns a dictionary of pandas dataframes for each requested scalar\"\"\"\n",
    "    ea = event_accumulator.EventAccumulator(\n",
    "        path,\n",
    "        size_guidance={event_accumulator.SCALARS: 0},\n",
    "    )\n",
    "    _absorb_print = ea.Reload()\n",
    "    # make sure the scalars are in the event accumulator tags\n",
    "    # assert all(\n",
    "    #     s in ea.Tags()[\"scalars\"] for s in scalars\n",
    "    # ), \"some scalars were not found in the event accumulator\"\n",
    "    res = {}\n",
    "    if scalars is None:\n",
    "        scalars = ea.Tags()[\"scalars\"]\n",
    "    for s in scalars:\n",
    "        try:\n",
    "            res[s] = pd.DataFrame(ea.Scalars(s))\n",
    "        except:\n",
    "            continue\n",
    "    return res"
   ]
  },
  {
   "cell_type": "code",
   "execution_count": 3,
   "metadata": {},
   "outputs": [],
   "source": [
    "# scalars = [\n",
    "#     \"val/acc_adv_attack\",\n",
    "#     \"val/balanced_acc_adv_attack\",\n",
    "#     \"val/acc_task\",\n",
    "#     \"val/balanced_acc_task\",\n",
    "#     \"train/zero_ratio_adv\",\n",
    "#     \"train/zero_ratio_task\",\n",
    "#     \"val/acc_task_debiased\",\n",
    "#     \"val/acc_protected\",\n",
    "#     \"val/balanced_acc_task_debiased\",\n",
    "#     \"val/balanced_acc_protected\"\n",
    "# ]\n",
    "# old suffixes for adv attack: adv_attack_unbiased, adv_attack_biased\n",
    "scalars = [\n",
    "    \"val/acc_task\",\n",
    "    \"val/loss_task\",\n",
    "    \"val/balanced_acc_adv_attack\",\n",
    "    \"val/loss_adv_attack\"\n",
    "]"
   ]
  },
  {
   "cell_type": "code",
   "execution_count": 23,
   "metadata": {},
   "outputs": [],
   "source": [
    "folder = \"/share/home/lukash/pan16/bertl4/logs_merged_masks\"\n",
    "experiment_names = set([re.sub(r\"(?<=seed)[\\d+]\", \"{}\", n) for n in os.listdir(folder)]) # remove seed suffix\n",
    "results = {}\n",
    "for n in experiment_names:\n",
    "    results[n] = []\n",
    "    for i in range(5):\n",
    "        n_seed = n.format(i)\n",
    "        filepath = os.path.join(folder, n_seed)\n",
    "        df = parse_tensorboard(filepath)\n",
    "        results[n].append(df)"
   ]
  },
  {
   "cell_type": "code",
   "execution_count": 5,
   "metadata": {},
   "outputs": [],
   "source": [
    "# with open(\"results.pkl\", \"wb\") as f:\n",
    "#     pickle.dump(results, f)"
   ]
  },
  {
   "cell_type": "code",
   "execution_count": 6,
   "metadata": {},
   "outputs": [],
   "source": [
    "# with open(\"results.pkl\", \"rb\") as f:\n",
    "#     results = pickle.load(f)"
   ]
  },
  {
   "cell_type": "code",
   "execution_count": 7,
   "metadata": {},
   "outputs": [],
   "source": [
    "#results['adverserial-baseline-bert_uncased_L-4_H-256_A-4-64-2e-05-weighted_loss_prot-gender-seed{}'][0]"
   ]
  },
  {
   "cell_type": "code",
   "execution_count": 25,
   "metadata": {},
   "outputs": [],
   "source": [
    "results_prep = {}\n",
    "for exp, data in results.items():\n",
    "    results_prep[exp] = {}\n",
    "    for res_seed in data:\n",
    "        for k, v in res_seed.items():\n",
    "            for s in scalars:\n",
    "                if s in k:\n",
    "                    try:\n",
    "                        results_prep[exp][k].append(v)\n",
    "                    except:\n",
    "                        results_prep[exp][k] = [v]"
   ]
  },
  {
   "cell_type": "code",
   "execution_count": 17,
   "metadata": {},
   "outputs": [],
   "source": [
    "# remove cp_init\n",
    "results_prep = {k.replace(\"-cp_init\", \"\"):v for k,v in results_prep.items()}"
   ]
  },
  {
   "cell_type": "code",
   "execution_count": 27,
   "metadata": {},
   "outputs": [],
   "source": [
    "def get_scalar_stats(\n",
    "    exp_results,\n",
    "    strategy = \"max\", # max, min, last, argmin, argmax\n",
    "    idx_results = None,\n",
    "    return_stats = True\n",
    "):\n",
    "\n",
    "    if strategy == \"argmin\" or strategy == \"argmax\":\n",
    "        \n",
    "        assert idx_results is not None\n",
    "        get_fn_idx = lambda x: (x.argmax() if strategy == \"argmax\" else x.argmin())\n",
    "        idx_list = [get_fn_idx(x[\"value\"]) for x in idx_results]\n",
    "        res = np.array([x[\"value\"].iloc[i] for i, x in zip(idx_list, exp_results)])\n",
    "\n",
    "    else:\n",
    "\n",
    "        if strategy == \"max\":\n",
    "            get_fn = lambda x: x.max()\n",
    "        elif strategy == \"min\":\n",
    "            get_fn = lambda x: x.max()\n",
    "        elif strategy == \"last\":\n",
    "            get_fn = lambda x: x.iloc[-1]\n",
    "        else:\n",
    "            raise Exception(f\"strategy {strategy} undefined\")\n",
    "        res = np.array([get_fn(x[\"value\"]) for x in exp_results])\n",
    "\n",
    "    if return_stats:\n",
    "        return np.array([res.mean(), res.std()])\n",
    "    else:\n",
    "        return res\n",
    "\n",
    "\n",
    "def get_scalar_stats_wrapper_max(results, exp_name, scalar):\n",
    "    exp_results = results[exp_name][scalar]\n",
    "    return get_scalar_stats(exp_results, strategy=\"max\")   \n",
    "\n",
    "\n",
    "def get_scalar_stats_wrapper_argmin(results, exp_name, scalar, scalar_idx):\n",
    "    exp_results = results[exp_name][scalar]\n",
    "    idx_results = results[exp_name][scalar_idx]\n",
    "    return get_scalar_stats(exp_results, strategy=\"argmin\", idx_results=idx_results)    "
   ]
  },
  {
   "cell_type": "code",
   "execution_count": 28,
   "metadata": {},
   "outputs": [
    {
     "data": {
      "text/plain": [
       "['adv_0.05_seed{}',\n",
       " 'adv_0.1_seed{}',\n",
       " 'modular_0.05_seed{}',\n",
       " 'modular_0.1_seed{}']"
      ]
     },
     "execution_count": 28,
     "metadata": {},
     "output_type": "execute_result"
    }
   ],
   "source": [
    "sorted(list(results_prep.keys()))"
   ]
  },
  {
   "cell_type": "code",
   "execution_count": 31,
   "metadata": {},
   "outputs": [
    {
     "data": {
      "text/plain": [
       "{'val/acc_task_eval',\n",
       " 'val/balanced_acc_adv_attack_age',\n",
       " 'val/balanced_acc_adv_attack_gender',\n",
       " 'val/loss_adv_attack_age',\n",
       " 'val/loss_adv_attack_gender',\n",
       " 'val/loss_task_eval'}"
      ]
     },
     "execution_count": 31,
     "metadata": {},
     "output_type": "execute_result"
    }
   ],
   "source": [
    "set([k for d in results_prep.values() for k in d.keys()])"
   ]
  },
  {
   "cell_type": "code",
   "execution_count": 32,
   "metadata": {},
   "outputs": [],
   "source": [
    "key_map_pan16 = {\n",
    "    'task-baseline-bert_uncased_L-4_H-256_A-4-64-2e-05-weighted_loss_prot-seed{}': [\n",
    "        'val/acc_task',\n",
    "        ['val/balanced_acc_adv_attack_task_emb_target_key_gender', 'val/loss_adv_attack_task_emb_target_key_gender'],\n",
    "        ['val/balanced_acc_adv_attack_task_emb_target_key_age', 'val/loss_adv_attack_task_emb_target_key_age']\n",
    "    ],\n",
    "    'task-diff_pruning_0.05-bert_uncased_L-4_H-256_A-4-64-2e-05-weighted_loss_prot-seed{}': [\n",
    "        'val/acc_task',\n",
    "        ['val/balanced_acc_adv_attack_task_emb_target_key_gender', 'val/loss_adv_attack_task_emb_target_key_gender'],\n",
    "        ['val/balanced_acc_adv_attack_task_emb_target_key_age', 'val/loss_adv_attack_task_emb_target_key_age']\n",
    "    ],\n",
    "    'task-diff_pruning_0.1-bert_uncased_L-4_H-256_A-4-64-2e-05-weighted_loss_prot-seed{}': [\n",
    "        'val/acc_task',\n",
    "        ['val/balanced_acc_adv_attack_task_emb_target_key_gender', 'val/loss_adv_attack_task_emb_target_key_gender'],\n",
    "        ['val/balanced_acc_adv_attack_task_emb_target_key_age', 'val/loss_adv_attack_task_emb_target_key_age']\n",
    "    ],\n",
    "    'adverserial-baseline-bert_uncased_L-4_H-256_A-4-64-2e-05-weighted_loss_prot-age-seed{}': [\n",
    "        'val/acc_task_debiased',\n",
    "        ['val/balanced_acc_adv_attack_adv_emb_age_target_key_gender', 'val/loss_adv_attack_adv_emb_age_target_key_gender'],\n",
    "        ['val/balanced_acc_adv_attack_adv_emb_age_target_key_age', 'val/loss_adv_attack_adv_emb_age_target_key_age']\n",
    "    ],\n",
    "    'adverserial-baseline-bert_uncased_L-4_H-256_A-4-64-2e-05-weighted_loss_prot-gender-seed{}': [\n",
    "        'val/acc_task_debiased',\n",
    "        ['val/balanced_acc_adv_attack_adv_emb_gender_target_key_gender', 'val/loss_adv_attack_adv_emb_gender_target_key_gender'],\n",
    "        ['val/balanced_acc_adv_attack_adv_emb_gender_target_key_age', 'val/loss_adv_attack_adv_emb_gender_target_key_age']\n",
    "    ],\n",
    "    'adverserial-baseline-bert_uncased_L-4_H-256_A-4-64-2e-05-weighted_loss_prot-gender_age-seed{}': [\n",
    "        'val/acc_task_debiased',\n",
    "        ['val/balanced_acc_adv_attack_adv_emb_all_target_key_gender', 'val/loss_adv_attack_adv_emb_all_target_key_gender'],\n",
    "        ['val/balanced_acc_adv_attack_adv_emb_all_target_key_age', 'val/loss_adv_attack_adv_emb_all_target_key_age']\n",
    "    ],\n",
    "    'adverserial-diff_pruning_0.05-bert_uncased_L-4_H-256_A-4-64-2e-05-weighted_loss_prot-age-seed{}': [\n",
    "        'val/acc_task_debiased',\n",
    "        ['val/balanced_acc_adv_attack_adv_emb_age_target_key_gender', 'val/loss_adv_attack_adv_emb_age_target_key_gender'],\n",
    "        ['val/balanced_acc_adv_attack_adv_emb_age_target_key_age', 'val/loss_adv_attack_adv_emb_age_target_key_age']\n",
    "    ],\n",
    "    'adverserial-diff_pruning_0.05-bert_uncased_L-4_H-256_A-4-64-2e-05-weighted_loss_prot-gender-seed{}': [\n",
    "        'val/acc_task_debiased',\n",
    "        ['val/balanced_acc_adv_attack_adv_emb_gender_target_key_gender', 'val/loss_adv_attack_adv_emb_gender_target_key_gender'],\n",
    "        ['val/balanced_acc_adv_attack_adv_emb_gender_target_key_age', 'val/loss_adv_attack_adv_emb_gender_target_key_age']\n",
    "    ],\n",
    "    'adverserial-diff_pruning_0.05-bert_uncased_L-4_H-256_A-4-64-2e-05-weighted_loss_prot-gender_age-seed{}': [\n",
    "        'val/acc_task_debiased',\n",
    "        ['val/balanced_acc_adv_attack_adv_emb_all_target_key_gender', 'val/loss_adv_attack_adv_emb_all_target_key_gender'],\n",
    "        ['val/balanced_acc_adv_attack_adv_emb_all_target_key_age', 'val/loss_adv_attack_adv_emb_all_target_key_age']\n",
    "    ],\n",
    "    'adverserial-diff_pruning_0.1-bert_uncased_L-4_H-256_A-4-64-2e-05-weighted_loss_prot-age-seed{}': [\n",
    "        'val/acc_task_debiased',\n",
    "        ['val/balanced_acc_adv_attack_adv_emb_age_target_key_gender', 'val/loss_adv_attack_adv_emb_age_target_key_gender'],\n",
    "        ['val/balanced_acc_adv_attack_adv_emb_age_target_key_age', 'val/loss_adv_attack_adv_emb_age_target_key_age']\n",
    "    ],\n",
    "    'adverserial-diff_pruning_0.1-bert_uncased_L-4_H-256_A-4-64-2e-05-weighted_loss_prot-gender-seed{}': [\n",
    "        'val/acc_task_debiased',\n",
    "        ['val/balanced_acc_adv_attack_adv_emb_gender_target_key_gender', 'val/loss_adv_attack_adv_emb_gender_target_key_gender'],\n",
    "        ['val/balanced_acc_adv_attack_adv_emb_gender_target_key_age', 'val/loss_adv_attack_adv_emb_gender_target_key_age']\n",
    "    ],\n",
    "    'adverserial-diff_pruning_0.1-bert_uncased_L-4_H-256_A-4-64-2e-05-weighted_loss_prot-gender_age-seed{}': [\n",
    "        'val/acc_task_debiased',\n",
    "        ['val/balanced_acc_adv_attack_adv_emb_all_target_key_gender', 'val/loss_adv_attack_adv_emb_all_target_key_gender'],\n",
    "        ['val/balanced_acc_adv_attack_adv_emb_all_target_key_age', 'val/loss_adv_attack_adv_emb_all_target_key_age']\n",
    "    ],\n",
    "}\n",
    "\n",
    "key_map_bios = {\n",
    "    'task-baseline-bert_uncased_L-4_H-256_A-4-64-2e-05-weighted_loss_prot-seed{}': [\n",
    "        'val/acc_task',\n",
    "        ['val/balanced_acc_adv_attack_task_emb_target_key_gender', 'val/loss_adv_attack_task_emb_target_key_gender']\n",
    "    ],\n",
    "    'task-diff_pruning_0.05-bert_uncased_L-4_H-256_A-4-64-2e-05-weighted_loss_prot-seed{}': [\n",
    "        'val/acc_task',\n",
    "        ['val/balanced_acc_adv_attack_task_emb_target_key_gender', 'val/loss_adv_attack_task_emb_target_key_gender']\n",
    "    ],\n",
    "    'task-diff_pruning_0.1-bert_uncased_L-4_H-256_A-4-64-2e-05-weighted_loss_prot-seed{}': [\n",
    "        'val/acc_task',\n",
    "        ['val/balanced_acc_adv_attack_task_emb_target_key_gender', 'val/loss_adv_attack_task_emb_target_key_gender']\n",
    "    ],\n",
    "    'adverserial-baseline-bert_uncased_L-4_H-256_A-4-64-2e-05-weighted_loss_prot-gender-seed{}': [\n",
    "        'val/acc_task_debiased',\n",
    "        ['val/balanced_acc_adv_attack_adv_emb_all_target_key_gender', 'val/loss_adv_attack_adv_emb_all_target_key_gender']\n",
    "    ],\n",
    "    'adverserial-diff_pruning_0.05-bert_uncased_L-4_H-256_A-4-64-2e-05-weighted_loss_prot-gender-seed{}': [\n",
    "        'val/acc_task_debiased',\n",
    "        ['val/balanced_acc_adv_attack_adv_emb_all_target_key_gender', 'val/loss_adv_attack_adv_emb_all_target_key_gender']\n",
    "    ],\n",
    "    'adverserial-diff_pruning_0.1-bert_uncased_L-4_H-256_A-4-64-2e-05-weighted_loss_prot-gender-seed{}': [\n",
    "        'val/acc_task_debiased',\n",
    "        ['val/balanced_acc_adv_attack_adv_emb_all_target_key_gender', 'val/loss_adv_attack_adv_emb_all_target_key_gender']\n",
    "    ]\n",
    "}\n",
    "\n",
    "\n",
    "keys_merged_masks = [\n",
    "    'val/acc_task_eval',\n",
    "    ['val/balanced_acc_adv_attack_gender', 'val/loss_adv_attack_gender'],\n",
    "    ['val/balanced_acc_adv_attack_age', 'val/loss_adv_attack_age']\n",
    "]\n",
    "\n",
    "\n",
    "keys_modular = [\n",
    "    'val/acc_task',\n",
    "    'val/acc_task_debiased_gender',\n",
    "    'val/acc_task_debiased_age',\n",
    "    ['val/balanced_acc_adv_attack_task_emb_target_key_gender', 'val/loss_adv_attack_task_emb_target_key_gender'],\n",
    "    ['val/balanced_acc_adv_attack_task_emb_target_key_age', 'val/loss_adv_attack_task_emb_target_key_age'],\n",
    "    ['val/balanced_acc_adv_attack_adv_emb_gender_target_key_gender', 'val/loss_adv_attack_adv_emb_gender_target_key_gender'],\n",
    "    ['val/balanced_acc_adv_attack_adv_emb_gender_target_key_age', 'val/loss_adv_attack_adv_emb_gender_target_key_age'],\n",
    "    ['val/balanced_acc_adv_attack_adv_emb_age_target_key_gender', 'val/loss_adv_attack_adv_emb_age_target_key_gender'],\n",
    "    ['val/balanced_acc_adv_attack_adv_emb_age_target_key_age', 'val/loss_adv_attack_adv_emb_age_target_key_age']\n",
    "]"
   ]
  },
  {
   "cell_type": "code",
   "execution_count": 21,
   "metadata": {},
   "outputs": [],
   "source": [
    "for exp, keys in key_map_pan16.items():\n",
    "    if exp in results_prep:\n",
    "        acc_task = get_scalar_stats_wrapper_max(results_prep, exp, keys[0])\n",
    "        acc_g = get_scalar_stats_wrapper_argmin(results_prep, exp, *keys[1])\n",
    "        acc_a = get_scalar_stats_wrapper_argmin(results_prep, exp, *keys[2])\n",
    "        print(exp)\n",
    "        print(f\"acc task: {acc_task[0]:.3f} +- {acc_task[1]:.3f}\")\n",
    "        print(f\"bacc attack gender: {acc_g[0]:.3f} +- {acc_g[1]:.3f}\")\n",
    "        print(f\"bacc attack age: {acc_a[0]:.3f} +- {acc_a[1]:.3f}\")\n",
    "        print(\"\\n\")\n",
    "    "
   ]
  },
  {
   "cell_type": "code",
   "execution_count": 22,
   "metadata": {},
   "outputs": [
    {
     "name": "stdout",
     "output_type": "stream",
     "text": [
      "modular-diff_pruning_0.1-bert_uncased_L-4_H-256_A-4-64-2e-05-weighted_loss_prot-gender_age-seed{}\n",
      "acc task: 0.919 +- 0.001\n",
      "acc task debiased gender: 0.919 +- 0.001\n",
      "acc task debiased age: 0.917 +- 0.001\n",
      "bacc attack gender - task emb: 0.612 +- 0.004\n",
      "bacc attack age - task emb: 0.421 +- 0.003\n",
      "bacc attack gender - g emb: 0.560 +- 0.004\n",
      "bacc attack age - g emb: 0.406 +- 0.011\n",
      "bacc attack gender - a emb: 0.611 +- 0.002\n",
      "bacc attack age - a emb: 0.370 +- 0.016\n",
      "\n",
      "\n",
      "modular-diff_pruning_0.05-bert_uncased_L-4_H-256_A-4-64-2e-05-weighted_loss_prot-gender_age-seed{}\n",
      "acc task: 0.919 +- 0.001\n",
      "acc task debiased gender: 0.919 +- 0.001\n",
      "acc task debiased age: 0.917 +- 0.001\n",
      "bacc attack gender - task emb: 0.613 +- 0.004\n",
      "bacc attack age - task emb: 0.423 +- 0.004\n",
      "bacc attack gender - g emb: 0.562 +- 0.010\n",
      "bacc attack age - g emb: 0.410 +- 0.009\n",
      "bacc attack gender - a emb: 0.612 +- 0.003\n",
      "bacc attack age - a emb: 0.362 +- 0.007\n",
      "\n",
      "\n"
     ]
    }
   ],
   "source": [
    "for exp in results_prep.keys():\n",
    "    acc_task = get_scalar_stats_wrapper_max(results_prep, exp, keys_modular[0])\n",
    "    acc_task_g = get_scalar_stats_wrapper_max(results_prep, exp, keys_modular[1])\n",
    "    acc_task_a = get_scalar_stats_wrapper_max(results_prep, exp, keys_modular[2])\n",
    "    bacc_g_task_emb = get_scalar_stats_wrapper_argmin(results_prep, exp, *keys_modular[3])\n",
    "    bacc_a_task_emb = get_scalar_stats_wrapper_argmin(results_prep, exp, *keys_modular[4])\n",
    "    bacc_g_gender_emb = get_scalar_stats_wrapper_argmin(results_prep, exp, *keys_modular[5])\n",
    "    bacc_a_gender_emb = get_scalar_stats_wrapper_argmin(results_prep, exp, *keys_modular[6])\n",
    "    bacc_g_age_emb = get_scalar_stats_wrapper_argmin(results_prep, exp, *keys_modular[7])\n",
    "    bacc_a_age_emb = get_scalar_stats_wrapper_argmin(results_prep, exp, *keys_modular[8])\n",
    "    print(exp)\n",
    "    print(f\"acc task: {acc_task[0]:.3f} +- {acc_task[1]:.3f}\")\n",
    "    print(f\"acc task debiased gender: {acc_task_g[0]:.3f} +- {acc_task_g[1]:.3f}\")\n",
    "    print(f\"acc task debiased age: {acc_task_a[0]:.3f} +- {acc_task_a[1]:.3f}\")\n",
    "    print(f\"bacc attack gender - task emb: {bacc_g_task_emb[0]:.3f} +- {bacc_g_task_emb[1]:.3f}\")\n",
    "    print(f\"bacc attack age - task emb: {bacc_a_task_emb[0]:.3f} +- {bacc_a_task_emb[1]:.3f}\")\n",
    "    print(f\"bacc attack gender - g emb: {bacc_g_gender_emb[0]:.3f} +- {bacc_g_gender_emb[1]:.3f}\")\n",
    "    print(f\"bacc attack age - g emb: {bacc_a_gender_emb[0]:.3f} +- {bacc_a_gender_emb[1]:.3f}\")\n",
    "    print(f\"bacc attack gender - a emb: {bacc_g_age_emb[0]:.3f} +- {bacc_g_age_emb[1]:.3f}\")\n",
    "    print(f\"bacc attack age - a emb: {bacc_a_age_emb[0]:.3f} +- {bacc_a_age_emb[1]:.3f}\")\n",
    "    print(\"\\n\")"
   ]
  },
  {
   "cell_type": "code",
   "execution_count": 36,
   "metadata": {},
   "outputs": [
    {
     "name": "stdout",
     "output_type": "stream",
     "text": [
      "adv_0.05_seed{}\n",
      "acc task: 0.917 +- 0.002\n",
      "bacc attack gender: 0.598 +- 0.007\n",
      "bacc attack age: 0.390 +- 0.012\n",
      "\n",
      "\n",
      "adv_0.1_seed{}\n",
      "acc task: 0.917 +- 0.001\n",
      "bacc attack gender: 0.596 +- 0.007\n",
      "bacc attack age: 0.384 +- 0.004\n",
      "\n",
      "\n",
      "modular_0.05_seed{}\n",
      "acc task: 0.916 +- 0.000\n",
      "bacc attack gender: 0.583 +- 0.009\n",
      "bacc attack age: 0.367 +- 0.017\n",
      "\n",
      "\n",
      "modular_0.1_seed{}\n",
      "acc task: 0.917 +- 0.001\n",
      "bacc attack gender: 0.583 +- 0.006\n",
      "bacc attack age: 0.360 +- 0.009\n",
      "\n",
      "\n"
     ]
    }
   ],
   "source": [
    "for exp in results_prep.keys():\n",
    "    acc_task = get_scalar_stats_wrapper_max(results_prep, exp, keys_merged_masks[0])\n",
    "    bacc_gender = get_scalar_stats_wrapper_argmin(results_prep, exp, *keys_merged_masks[1])\n",
    "    bacc_age = get_scalar_stats_wrapper_argmin(results_prep, exp, *keys_merged_masks[2])\n",
    "    print(exp)\n",
    "    print(f\"acc task: {acc_task[0]:.3f} +- {acc_task[1]:.3f}\")\n",
    "    print(f\"bacc attack gender: {bacc_gender[0]:.3f} +- {bacc_gender[1]:.3f}\")\n",
    "    print(f\"bacc attack age: {bacc_age[0]:.3f} +- {bacc_age[1]:.3f}\")\n",
    "    print(\"\\n\")"
   ]
  },
  {
   "cell_type": "code",
   "execution_count": 93,
   "metadata": {},
   "outputs": [
    {
     "data": {
      "text/plain": [
       "'adverserial-diff_pruning_0.1-bert_uncased_L-4_H-256_A-4-64-2e-05-weighted_loss_prot-gender-seed{}'"
      ]
     },
     "execution_count": 93,
     "metadata": {},
     "output_type": "execute_result"
    }
   ],
   "source": [
    "for exp, keys in key_map_pan16.items():\n",
    "    if exp in results_prep:\n",
    "        acc_task = get_scalar_stats_wrapper_max(results_prep, exp, keys[0])\n",
    "        acc_g = get_scalar_stats_wrapper_argmin(results_prep, exp, *keys[1])\n",
    "        # acc_a = get_scalar_stats_wrapper_argmin(results_prep, exp, *keys[2])\n",
    "        print(exp)\n",
    "        print(f\"acc task: {acc_task[0]:.3f} +- {acc_task[1]:.3f}\")\n",
    "        print(f\"bacc attack gender: {acc_g[0]:.3f} +- {acc_g[1]:.3f}\")\n",
    "        print(f\"bacc attack age: {acc_a[0]:.3f} +- {acc_a[1]:.3f}\")\n",
    "        print(\"\\n\")\n",
    "    "
   ]
  },
  {
   "cell_type": "code",
   "execution_count": 47,
   "metadata": {},
   "outputs": [
    {
     "data": {
      "text/plain": [
       "array([0.91883999, 0.00183696])"
      ]
     },
     "execution_count": 47,
     "metadata": {},
     "output_type": "execute_result"
    }
   ],
   "source": [
    "get_scalar_stats_wrapper_max(results_prep, exp, 'val/acc_task_debiased')"
   ]
  },
  {
   "cell_type": "code",
   "execution_count": 48,
   "metadata": {},
   "outputs": [
    {
     "data": {
      "text/plain": [
       "array([0.54591186, 0.00614799])"
      ]
     },
     "execution_count": 48,
     "metadata": {},
     "output_type": "execute_result"
    }
   ],
   "source": [
    "get_scalar_stats_wrapper_argmin(results_prep, exp, 'val/balanced_acc_adv_attack_adv_emb_gender_target_key_gender', 'val/loss_adv_attack_adv_emb_gender_target_key_gender')"
   ]
  },
  {
   "cell_type": "code",
   "execution_count": 49,
   "metadata": {},
   "outputs": [
    {
     "data": {
      "text/plain": [
       "array([0.42163634, 0.00561892])"
      ]
     },
     "execution_count": 49,
     "metadata": {},
     "output_type": "execute_result"
    }
   ],
   "source": [
    "get_scalar_stats_wrapper_argmin(results_prep, exp, 'val/balanced_acc_adv_attack_adv_emb_gender_target_key_age', 'val/loss_adv_attack_adv_emb_gender_target_key_age')"
   ]
  },
  {
   "cell_type": "code",
   "execution_count": 26,
   "metadata": {},
   "outputs": [
    {
     "data": {
      "text/plain": [
       "{'only_adv_attack_task-baseline-bert_uncased_L-4_H-256_A-4-64-2e-05-seed{}-64-0.0001-weighted_loss_prot-prot_idx_1-seed{}',\n",
       " 'only_adv_attack_task-diff_pruning_0.05-bert_uncased_L-4_H-256_A-4-64-2e-05-seed{}-64-0.0001-weighted_loss_prot-prot_idx_1-seed{}',\n",
       " 'only_adv_attack_task-diff_pruning_0.1-bert_uncased_L-4_H-256_A-4-64-2e-05-seed{}-64-0.0001-weighted_loss_prot-prot_idx_1-seed{}'}"
      ]
     },
     "execution_count": 26,
     "metadata": {},
     "output_type": "execute_result"
    }
   ],
   "source": [
    "experiment_names"
   ]
  },
  {
   "cell_type": "code",
   "execution_count": 27,
   "metadata": {},
   "outputs": [
    {
     "name": "stdout",
     "output_type": "stream",
     "text": [
      "only_adv_attack_task-baseline-bert_uncased_L-4_H-256_A-4-64-2e-05-seed{}-64-0.0001-weighted_loss_prot-prot_idx_1-seed{}\n",
      "{'val/balanced_acc_adv_attack': '0.463 +- 0.018'}\n",
      "\n",
      "\n",
      "only_adv_attack_task-diff_pruning_0.05-bert_uncased_L-4_H-256_A-4-64-2e-05-seed{}-64-0.0001-weighted_loss_prot-prot_idx_1-seed{}\n",
      "{'val/balanced_acc_adv_attack': '0.497 +- 0.011'}\n",
      "\n",
      "\n",
      "only_adv_attack_task-diff_pruning_0.1-bert_uncased_L-4_H-256_A-4-64-2e-05-seed{}-64-0.0001-weighted_loss_prot-prot_idx_1-seed{}\n",
      "{'val/balanced_acc_adv_attack': '0.495 +- 0.007'}\n",
      "\n",
      "\n"
     ]
    }
   ],
   "source": [
    "for n in sorted(experiment_names):\n",
    "    scalars_to_print = ['val/acc_task', 'val/balanced_acc_adv_attack', 'val/acc_task_debiased', 'val/balanced_acc_adv_attack_debiased']\n",
    "    format_stats = lambda arr: f\"{arr[0]:.3f} +- {arr[1]:.3f}\"\n",
    "    res = {k:[_v for _k,_v in v.items() if _k == n][0] for k,v in scalar_stats.items() if k in scalars_to_print}\n",
    "    res_format = {k:format_stats(v) for k,v in res.items() if not np.isnan(v).any()}\n",
    "    print(n)\n",
    "    print(res_format)\n",
    "    print(\"\\n\")"
   ]
  },
  {
   "cell_type": "code",
   "execution_count": null,
   "metadata": {},
   "outputs": [],
   "source": [
    "n = 'adverserial-diff_pruning_0.05-bert_uncased_L-4_H-256_A-4-64-2e-05-weighted_loss_prot-gender'\n",
    "# scalars_to_print = ['val/acc_task', 'val/balanced_acc_adv_attack']\n",
    "scalars_to_print = ['val/acc_task_debiased', 'val/balanced_acc_adv_attack_debiased']\n",
    "format_stats = lambda arr: f\"{{${arr[0]*100:.1f} \\pm {arr[1]*100:.1f}$}}\"\n",
    "\n",
    "res = {k:[_v for _k,_v in v.items() if _k == n][0] for k,v in scalar_stats.items()}\n",
    "s = \" & \".join([format_stats(res[k]) for k in scalars_to_print])\n",
    "print(s)"
   ]
  },
  {
   "cell_type": "code",
   "execution_count": null,
   "metadata": {},
   "outputs": [],
   "source": []
  }
 ],
 "metadata": {
  "kernelspec": {
   "display_name": "Python 3.9.12 ('testenv')",
   "language": "python",
   "name": "python3"
  },
  "language_info": {
   "codemirror_mode": {
    "name": "ipython",
    "version": 3
   },
   "file_extension": ".py",
   "mimetype": "text/x-python",
   "name": "python",
   "nbconvert_exporter": "python",
   "pygments_lexer": "ipython3",
   "version": "3.9.12"
  },
  "orig_nbformat": 4,
  "vscode": {
   "interpreter": {
    "hash": "44fd53a9831942cc7290b70e18d76362301b009d310fe9edb8a5f7b8f5560d5f"
   }
  }
 },
 "nbformat": 4,
 "nbformat_minor": 2
}
