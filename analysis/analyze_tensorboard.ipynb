{
 "cells": [
  {
   "cell_type": "code",
   "execution_count": 1,
   "metadata": {},
   "outputs": [],
   "source": [
    "import os\n",
    "import pandas as pd\n",
    "import numpy as np\n",
    "from matplotlib import pyplot as plt\n",
    "import seaborn as sns\n",
    "from scipy import stats\n",
    "from tensorboard.backend.event_processing import event_accumulator\n",
    "import pickle"
   ]
  },
  {
   "cell_type": "code",
   "execution_count": 2,
   "metadata": {},
   "outputs": [],
   "source": [
    "def parse_tensorboard(path, scalars):\n",
    "    \"\"\"returns a dictionary of pandas dataframes for each requested scalar\"\"\"\n",
    "    ea = event_accumulator.EventAccumulator(\n",
    "        path,\n",
    "        size_guidance={event_accumulator.SCALARS: 0},\n",
    "    )\n",
    "    _absorb_print = ea.Reload()\n",
    "    # make sure the scalars are in the event accumulator tags\n",
    "    # assert all(\n",
    "    #     s in ea.Tags()[\"scalars\"] for s in scalars\n",
    "    # ), \"some scalars were not found in the event accumulator\"\n",
    "    res = {}\n",
    "    for s in scalars:\n",
    "        try:\n",
    "            res[s] = pd.DataFrame(ea.Scalars(s))\n",
    "        except:\n",
    "            continue\n",
    "    return res"
   ]
  },
  {
   "cell_type": "code",
   "execution_count": 115,
   "metadata": {},
   "outputs": [],
   "source": [
    "# scalars = [\n",
    "#     \"val/acc_adv_attack\",\n",
    "#     \"val/balanced_acc_adv_attack\",\n",
    "#     \"val/acc_task\",\n",
    "#     \"val/balanced_acc_task\",\n",
    "#     \"train/zero_ratio_adv\",\n",
    "#     \"train/zero_ratio_task\",\n",
    "#     \"val/acc_task_debiased\",\n",
    "#     \"val/acc_protected\",\n",
    "#     \"val/balanced_acc_task_debiased\",\n",
    "#     \"val/balanced_acc_protected\"\n",
    "# ]\n",
    "# experiment_names = [\n",
    "#     'task_baseline_bert_uncased_L-4_H-256_A-4_64_2e-05',\n",
    "#     'adverserial_baseline_bert_uncased_L-4_H-256_A-4_64_2e-05',\n",
    "#     'task_diff_pruning_0.05_bert_uncased_L-4_H-256_A-4_64_2e-05',\n",
    "#     'task_diff_pruning_0.1_bert_uncased_L-4_H-256_A-4_64_2e-05',\n",
    "#     'adverserial_diff_pruning_0.05_bert_uncased_L-4_H-256_A-4_64_2e-05',\n",
    "#     'adverserial_diff_pruning_0.1_bert_uncased_L-4_H-256_A-4_64_2e-05',\n",
    "#     'modular_diff_pruning_0.05_bert_uncased_L-4_H-256_A-4_64_2e-05',\n",
    "#     'modular_diff_pruning_0.1_bert_uncased_L-4_H-256_A-4_64_2e-05'\n",
    "# ]\n",
    "scalars = [\n",
    "    \"val/acc_task_debiased\",\n",
    "    \"val/acc_task\"\n",
    "]\n",
    "experiment_names = [\n",
    "    'adverserial_baseline_bert_uncased_L-4_H-256_A-4_64_2e-05'\n",
    "]"
   ]
  },
  {
   "cell_type": "code",
   "execution_count": 116,
   "metadata": {},
   "outputs": [],
   "source": [
    "folder = \"/share/home/lukash/logs_bert_L4/seed{}\"\n",
    "results = {}\n",
    "for n in experiment_names:\n",
    "    results[n] = []\n",
    "    for i in range(5):\n",
    "        filepath = os.path.join(folder.format(i), n)\n",
    "        df = parse_tensorboard(filepath, scalars)\n",
    "        results[n].append(df)"
   ]
  },
  {
   "cell_type": "code",
   "execution_count": 117,
   "metadata": {},
   "outputs": [],
   "source": [
    "# folder = \"../logs_bios\"\n",
    "# results = {}\n",
    "# for n in experiment_names:\n",
    "#     results[n] = []\n",
    "#     for i in range(5):\n",
    "#         n_seed = n + f\"-seed{i}\"\n",
    "#         filepath = os.path.join(folder, n_seed)\n",
    "#         df = parse_tensorboard(filepath, scalars)\n",
    "#         results[n].append(df)"
   ]
  },
  {
   "cell_type": "code",
   "execution_count": 104,
   "metadata": {},
   "outputs": [],
   "source": [
    "# with open(\"results.pkl\", \"wb\") as f:\n",
    "#     pickle.dump(results, f)"
   ]
  },
  {
   "cell_type": "code",
   "execution_count": 105,
   "metadata": {},
   "outputs": [],
   "source": [
    "# with open(\"results.pkl\", \"rb\") as f:\n",
    "#     results = pickle.load(f)"
   ]
  },
  {
   "cell_type": "code",
   "execution_count": 118,
   "metadata": {},
   "outputs": [],
   "source": [
    "scalar_stats = {}\n",
    "for s in scalars:\n",
    "    scalar_stats[s] = {}\n",
    "    for k,v in results.items():\n",
    "        try:\n",
    "            scalar = np.array([x[s][\"value\"].max() for x in v if s in x])\n",
    "            scalar_stats[s][k] = scalar#[scalar.mean(), scalar.std()]\n",
    "        except KeyError:\n",
    "            continue"
   ]
  },
  {
   "cell_type": "code",
   "execution_count": 119,
   "metadata": {},
   "outputs": [
    {
     "data": {
      "text/plain": [
       "{'val/acc_task_debiased': {'adverserial_baseline_bert_uncased_L-4_H-256_A-4_64_2e-05': array([0.83123487, 0.83131385, 0.83026022, 0.83210409])},\n",
       " 'val/acc_task': {'adverserial_baseline_bert_uncased_L-4_H-256_A-4_64_2e-05': array([0.83160365])}}"
      ]
     },
     "execution_count": 119,
     "metadata": {},
     "output_type": "execute_result"
    }
   ],
   "source": [
    "scalar_stats"
   ]
  },
  {
   "cell_type": "code",
   "execution_count": 120,
   "metadata": {},
   "outputs": [
    {
     "name": "stdout",
     "output_type": "stream",
     "text": [
      "0.831303334236145 0.0006040335861399426\n"
     ]
    }
   ],
   "source": [
    "arr = np.concatenate([scalar_stats[\"val/acc_task_debiased\"][k], scalar_stats[\"val/acc_task\"][k]])\n",
    "print(arr.mean(), arr.std())"
   ]
  },
  {
   "cell_type": "code",
   "execution_count": 72,
   "metadata": {},
   "outputs": [
    {
     "data": {
      "text/plain": [
       "['val/acc_adv_attack',\n",
       " 'val/acc_adv_attack_adv',\n",
       " 'val/acc_adv_attack_biased',\n",
       " 'val/acc_adv_attack_unbiased']"
      ]
     },
     "execution_count": 72,
     "metadata": {},
     "output_type": "execute_result"
    }
   ],
   "source": [
    "scalars"
   ]
  },
  {
   "cell_type": "code",
   "execution_count": 75,
   "metadata": {},
   "outputs": [
    {
     "ename": "TypeError",
     "evalue": "list indices must be integers or slices, not str",
     "output_type": "error",
     "traceback": [
      "\u001b[0;31m---------------------------------------------------------------------------\u001b[0m",
      "\u001b[0;31mTypeError\u001b[0m                                 Traceback (most recent call last)",
      "\u001b[1;32m/home/lukash/sparse_transformers/analysis/analyze_tensorboard.ipynb Cell 10\u001b[0m in \u001b[0;36m<cell line: 1>\u001b[0;34m()\u001b[0m\n\u001b[0;32m----> <a href='vscode-notebook-cell://ssh-remote%2Brk8.cp.jku.at/home/lukash/sparse_transformers/analysis/analyze_tensorboard.ipynb#ch0000027vscode-remote?line=0'>1</a>\u001b[0m results[\u001b[39m'\u001b[39;49m\u001b[39mmodular-baseline-bert_uncased_L-4_H-256_A-4-64-2e-05\u001b[39;49m\u001b[39m'\u001b[39;49m][\u001b[39m\"\u001b[39;49m\u001b[39mval/acc_adv_attack\u001b[39;49m\u001b[39m\"\u001b[39;49m]\n",
      "\u001b[0;31mTypeError\u001b[0m: list indices must be integers or slices, not str"
     ]
    }
   ],
   "source": [
    "results['modular-baseline-bert_uncased_L-4_H-256_A-4-64-2e-05'][\"val/acc_adv_attack\"]"
   ]
  },
  {
   "cell_type": "code",
   "execution_count": null,
   "metadata": {},
   "outputs": [],
   "source": []
  },
  {
   "cell_type": "code",
   "execution_count": 64,
   "metadata": {},
   "outputs": [
    {
     "data": {
      "text/plain": [
       "[0.5966016173362731, 0.009829929271375389]"
      ]
     },
     "execution_count": 64,
     "metadata": {},
     "output_type": "execute_result"
    }
   ],
   "source": [
    "[scalar.mean(), scalar.std()]"
   ]
  },
  {
   "cell_type": "code",
   "execution_count": 67,
   "metadata": {},
   "outputs": [
    {
     "data": {
      "text/plain": [
       "'modular-baseline-bert_uncased_L-4_H-256_A-4-64-2e-05'"
      ]
     },
     "execution_count": 67,
     "metadata": {},
     "output_type": "execute_result"
    }
   ],
   "source": [
    "k"
   ]
  },
  {
   "cell_type": "code",
   "execution_count": 19,
   "metadata": {},
   "outputs": [],
   "source": [
    "# with open(\"stats.pkl\", \"wb\") as f:\n",
    "#     pickle.dump(scalar_stats, f)"
   ]
  },
  {
   "cell_type": "code",
   "execution_count": 20,
   "metadata": {},
   "outputs": [],
   "source": [
    "# with open(\"stats.pkl\", \"rb\") as f:\n",
    "#     scalar_stats = pickle.load(f)"
   ]
  },
  {
   "cell_type": "code",
   "execution_count": 46,
   "metadata": {},
   "outputs": [
    {
     "data": {
      "text/plain": [
       "dict_keys(['val/acc_adv_attack', 'val/acc_adv_attack_adv', 'val/acc_adv_attack_biased', 'val/acc_adv_attack_unbiased'])"
      ]
     },
     "execution_count": 46,
     "metadata": {},
     "output_type": "execute_result"
    }
   ],
   "source": [
    "scalar_stats.keys()"
   ]
  },
  {
   "cell_type": "code",
   "execution_count": 47,
   "metadata": {},
   "outputs": [
    {
     "data": {
      "text/plain": [
       "{'val/acc_adv_attack': {},\n",
       " 'val/acc_adv_attack_adv': {},\n",
       " 'val/acc_adv_attack_biased': {},\n",
       " 'val/acc_adv_attack_unbiased': {}}"
      ]
     },
     "execution_count": 47,
     "metadata": {},
     "output_type": "execute_result"
    }
   ],
   "source": [
    "scalar_stats"
   ]
  },
  {
   "cell_type": "code",
   "execution_count": 34,
   "metadata": {},
   "outputs": [
    {
     "data": {
      "text/plain": [
       "{}"
      ]
     },
     "execution_count": 34,
     "metadata": {},
     "output_type": "execute_result"
    }
   ],
   "source": [
    "scalar_stats['val/acc_adv_attack']"
   ]
  },
  {
   "cell_type": "code",
   "execution_count": 22,
   "metadata": {},
   "outputs": [
    {
     "data": {
      "text/plain": [
       "{}"
      ]
     },
     "execution_count": 22,
     "metadata": {},
     "output_type": "execute_result"
    }
   ],
   "source": [
    "scalar_stats['val/acc_task_debiased']"
   ]
  },
  {
   "cell_type": "code",
   "execution_count": 23,
   "metadata": {},
   "outputs": [
    {
     "data": {
      "text/plain": [
       "{}"
      ]
     },
     "execution_count": 23,
     "metadata": {},
     "output_type": "execute_result"
    }
   ],
   "source": [
    "scalar_stats['val/acc_task']"
   ]
  },
  {
   "cell_type": "code",
   "execution_count": 70,
   "metadata": {},
   "outputs": [
    {
     "data": {
      "text/plain": [
       "{'adverserial_diff_pruning_0.05_bert_uncased_L-4_H-256_A-4_64_2e-05': [0.8344484329223633,\n",
       "  0.0005988100637620501],\n",
       " 'adverserial_diff_pruning_0.1_bert_uncased_L-4_H-256_A-4_64_2e-05': [0.8346749663352966,\n",
       "  0.00026737418148785764],\n",
       " 'modular_diff_pruning_0.05_bert_uncased_L-4_H-256_A-4_64_2e-05': [0.8346486210823059,\n",
       "  0.0006845799638344238],\n",
       " 'modular_diff_pruning_0.1_bert_uncased_L-4_H-256_A-4_64_2e-05': [0.8343114614486694,\n",
       "  0.0005864827759984568]}"
      ]
     },
     "execution_count": 70,
     "metadata": {},
     "output_type": "execute_result"
    }
   ],
   "source": [
    "scalar_stats['val/acc_task_debiased']"
   ]
  },
  {
   "cell_type": "code",
   "execution_count": null,
   "metadata": {},
   "outputs": [],
   "source": []
  }
 ],
 "metadata": {
  "kernelspec": {
   "display_name": "Python 3.9.12 ('testenv')",
   "language": "python",
   "name": "python3"
  },
  "language_info": {
   "codemirror_mode": {
    "name": "ipython",
    "version": 3
   },
   "file_extension": ".py",
   "mimetype": "text/x-python",
   "name": "python",
   "nbconvert_exporter": "python",
   "pygments_lexer": "ipython3",
   "version": "3.9.12"
  },
  "orig_nbformat": 4,
  "vscode": {
   "interpreter": {
    "hash": "44fd53a9831942cc7290b70e18d76362301b009d310fe9edb8a5f7b8f5560d5f"
   }
  }
 },
 "nbformat": 4,
 "nbformat_minor": 2
}
