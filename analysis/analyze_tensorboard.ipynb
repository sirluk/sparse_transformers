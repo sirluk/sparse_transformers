{
 "cells": [
  {
   "cell_type": "code",
   "execution_count": 9,
   "metadata": {},
   "outputs": [],
   "source": [
    "import os\n",
    "import re\n",
    "import pandas as pd\n",
    "import numpy as np\n",
    "from matplotlib import pyplot as plt\n",
    "import seaborn as sns\n",
    "from scipy import stats\n",
    "from tensorboard.backend.event_processing import event_accumulator\n",
    "import pickle"
   ]
  },
  {
   "cell_type": "code",
   "execution_count": 10,
   "metadata": {},
   "outputs": [],
   "source": [
    "def parse_tensorboard(path, scalars):\n",
    "    \"\"\"returns a dictionary of pandas dataframes for each requested scalar\"\"\"\n",
    "    ea = event_accumulator.EventAccumulator(\n",
    "        path,\n",
    "        size_guidance={event_accumulator.SCALARS: 0},\n",
    "    )\n",
    "    _absorb_print = ea.Reload()\n",
    "    # make sure the scalars are in the event accumulator tags\n",
    "    # assert all(\n",
    "    #     s in ea.Tags()[\"scalars\"] for s in scalars\n",
    "    # ), \"some scalars were not found in the event accumulator\"\n",
    "    res = {}\n",
    "    for s in scalars:\n",
    "        try:\n",
    "            res[s] = pd.DataFrame(ea.Scalars(s))\n",
    "        except:\n",
    "            continue\n",
    "    return res"
   ]
  },
  {
   "cell_type": "code",
   "execution_count": 3,
   "metadata": {},
   "outputs": [],
   "source": [
    "# scalars = [\n",
    "#     \"val/acc_adv_attack\",\n",
    "#     \"val/balanced_acc_adv_attack\",\n",
    "#     \"val/acc_task\",\n",
    "#     \"val/balanced_acc_task\",\n",
    "#     \"train/zero_ratio_adv\",\n",
    "#     \"train/zero_ratio_task\",\n",
    "#     \"val/acc_task_debiased\",\n",
    "#     \"val/acc_protected\",\n",
    "#     \"val/balanced_acc_task_debiased\",\n",
    "#     \"val/balanced_acc_protected\"\n",
    "# ]\n",
    "# old suffixes for adv attack: adv_attack_unbiased, adv_attack_biased\n",
    "scalars = [\n",
    "    \"val/acc_task_debiased\",\n",
    "    \"val/acc_task\",\n",
    "    \"val/balanced_acc_task_debiased\",\n",
    "    \"val/balanced_acc_task\",\n",
    "    \"val/acc_adv_attack\",\n",
    "    \"val/balanced_acc_adv_attack\",\n",
    "    \"val/acc_adv_attack_debiased\",\n",
    "    \"val/balanced_acc_adv_attack_debiased\",\n",
    "    # \"val/acc_adv_attack_unbiased\",\n",
    "    # \"val/balanced_acc_adv_attack_unbiased\",\n",
    "    # \"val/acc_adv_attack_biased\",\n",
    "    # \"val/balanced_acc_adv_attack_biased\"\n",
    "]"
   ]
  },
  {
   "cell_type": "code",
   "execution_count": 22,
   "metadata": {},
   "outputs": [
    {
     "data": {
      "text/plain": [
       "['only_adv_attack_task-baseline-bert_uncased_L-4_H-256_A-4-64-2e-05-seed{}-64-0.0001-weighted_loss_prot-prot_idx_1-seed{}',\n",
       " 'only_adv_attack_task-baseline-bert_uncased_L-4_H-256_A-4-64-2e-05-seed{}-64-0.0001-weighted_loss_prot-prot_idx_1-seed{}',\n",
       " 'only_adv_attack_task-baseline-bert_uncased_L-4_H-256_A-4-64-2e-05-seed{}-64-0.0001-weighted_loss_prot-prot_idx_1-seed{}',\n",
       " 'only_adv_attack_task-baseline-bert_uncased_L-4_H-256_A-4-64-2e-05-seed{}-64-0.0001-weighted_loss_prot-prot_idx_1-seed{}',\n",
       " 'only_adv_attack_task-baseline-bert_uncased_L-4_H-256_A-4-64-2e-05-seed{}-64-0.0001-weighted_loss_prot-prot_idx_1-seed{}',\n",
       " 'only_adv_attack_task-diff_pruning_0.05-bert_uncased_L-4_H-256_A-4-64-2e-05-seed{}-64-0.0001-weighted_loss_prot-prot_idx_1-seed{}',\n",
       " 'only_adv_attack_task-diff_pruning_0.05-bert_uncased_L-4_H-256_A-4-64-2e-05-seed{}-64-0.0001-weighted_loss_prot-prot_idx_1-seed{}',\n",
       " 'only_adv_attack_task-diff_pruning_0.05-bert_uncased_L-4_H-256_A-4-64-2e-05-seed{}-64-0.0001-weighted_loss_prot-prot_idx_1-seed{}',\n",
       " 'only_adv_attack_task-diff_pruning_0.05-bert_uncased_L-4_H-256_A-4-64-2e-05-seed{}-64-0.0001-weighted_loss_prot-prot_idx_1-seed{}',\n",
       " 'only_adv_attack_task-diff_pruning_0.05-bert_uncased_L-4_H-256_A-4-64-2e-05-seed{}-64-0.0001-weighted_loss_prot-prot_idx_1-seed{}',\n",
       " 'only_adv_attack_task-diff_pruning_0.1-bert_uncased_L-4_H-256_A-4-64-2e-05-seed{}-64-0.0001-weighted_loss_prot-prot_idx_1-seed{}',\n",
       " 'only_adv_attack_task-diff_pruning_0.1-bert_uncased_L-4_H-256_A-4-64-2e-05-seed{}-64-0.0001-weighted_loss_prot-prot_idx_1-seed{}',\n",
       " 'only_adv_attack_task-diff_pruning_0.1-bert_uncased_L-4_H-256_A-4-64-2e-05-seed{}-64-0.0001-weighted_loss_prot-prot_idx_1-seed{}',\n",
       " 'only_adv_attack_task-diff_pruning_0.1-bert_uncased_L-4_H-256_A-4-64-2e-05-seed{}-64-0.0001-weighted_loss_prot-prot_idx_1-seed{}',\n",
       " 'only_adv_attack_task-diff_pruning_0.1-bert_uncased_L-4_H-256_A-4-64-2e-05-seed{}-64-0.0001-weighted_loss_prot-prot_idx_1-seed{}']"
      ]
     },
     "execution_count": 22,
     "metadata": {},
     "output_type": "execute_result"
    }
   ],
   "source": [
    "[re.sub(r\"(?<=seed)[\\d+]\", \"{}\", n) for n in os.listdir(folder)]"
   ]
  },
  {
   "cell_type": "code",
   "execution_count": 23,
   "metadata": {},
   "outputs": [],
   "source": [
    "folder = \"/share/home/lukash/pan16/bertl4/logs_only_adv_attack\"\n",
    "experiment_names = set([re.sub(r\"(?<=seed)[\\d+]\", \"{}\", n) for n in os.listdir(folder)]) # remove seed suffix\n",
    "results = {}\n",
    "for n in experiment_names:\n",
    "    results[n] = []\n",
    "    for i in range(5):\n",
    "        n_seed = n.format(i, i)\n",
    "        filepath = os.path.join(folder, n_seed)\n",
    "        df = parse_tensorboard(filepath, scalars)\n",
    "        results[n].append(df)"
   ]
  },
  {
   "cell_type": "code",
   "execution_count": null,
   "metadata": {},
   "outputs": [],
   "source": [
    "# with open(\"results.pkl\", \"wb\") as f:\n",
    "#     pickle.dump(results, f)"
   ]
  },
  {
   "cell_type": "code",
   "execution_count": null,
   "metadata": {},
   "outputs": [],
   "source": [
    "# with open(\"results.pkl\", \"rb\") as f:\n",
    "#     results = pickle.load(f)"
   ]
  },
  {
   "cell_type": "code",
   "execution_count": 24,
   "metadata": {},
   "outputs": [
    {
     "name": "stderr",
     "output_type": "stream",
     "text": [
      "/tmp/lukash/ipykernel_66637/1661473811.py:9: RuntimeWarning: Mean of empty slice.\n",
      "  scalar_stats[s][k] = np.array([scalar.mean(), scalar.std()])\n",
      "/home/lukash/miniconda3/envs/testenv/lib/python3.9/site-packages/numpy/core/_methods.py:189: RuntimeWarning: invalid value encountered in double_scalars\n",
      "  ret = ret.dtype.type(ret / rcount)\n",
      "/home/lukash/miniconda3/envs/testenv/lib/python3.9/site-packages/numpy/core/_methods.py:262: RuntimeWarning: Degrees of freedom <= 0 for slice\n",
      "  ret = _var(a, axis=axis, dtype=dtype, out=out, ddof=ddof,\n",
      "/home/lukash/miniconda3/envs/testenv/lib/python3.9/site-packages/numpy/core/_methods.py:222: RuntimeWarning: invalid value encountered in true_divide\n",
      "  arrmean = um.true_divide(arrmean, div, out=arrmean, casting='unsafe',\n",
      "/home/lukash/miniconda3/envs/testenv/lib/python3.9/site-packages/numpy/core/_methods.py:254: RuntimeWarning: invalid value encountered in double_scalars\n",
      "  ret = ret.dtype.type(ret / rcount)\n"
     ]
    }
   ],
   "source": [
    "scalar_stats = {}\n",
    "for s in scalars:\n",
    "    scalar_stats[s] = {}\n",
    "    for k,v in results.items():\n",
    "        try:\n",
    "            scalar = np.array([x[s][\"value\"].max() for x in v if s in x])\n",
    "        except KeyError:\n",
    "            continue\n",
    "        scalar_stats[s][k] = np.array([scalar.mean(), scalar.std()])"
   ]
  },
  {
   "cell_type": "code",
   "execution_count": 25,
   "metadata": {},
   "outputs": [
    {
     "data": {
      "text/plain": [
       "['val/acc_task_debiased',\n",
       " 'val/acc_task',\n",
       " 'val/balanced_acc_task_debiased',\n",
       " 'val/balanced_acc_task',\n",
       " 'val/acc_adv_attack',\n",
       " 'val/balanced_acc_adv_attack',\n",
       " 'val/acc_adv_attack_debiased',\n",
       " 'val/balanced_acc_adv_attack_debiased']"
      ]
     },
     "execution_count": 25,
     "metadata": {},
     "output_type": "execute_result"
    }
   ],
   "source": [
    "list(scalar_stats.keys())"
   ]
  },
  {
   "cell_type": "code",
   "execution_count": 26,
   "metadata": {},
   "outputs": [
    {
     "data": {
      "text/plain": [
       "{'only_adv_attack_task-baseline-bert_uncased_L-4_H-256_A-4-64-2e-05-seed{}-64-0.0001-weighted_loss_prot-prot_idx_1-seed{}',\n",
       " 'only_adv_attack_task-diff_pruning_0.05-bert_uncased_L-4_H-256_A-4-64-2e-05-seed{}-64-0.0001-weighted_loss_prot-prot_idx_1-seed{}',\n",
       " 'only_adv_attack_task-diff_pruning_0.1-bert_uncased_L-4_H-256_A-4-64-2e-05-seed{}-64-0.0001-weighted_loss_prot-prot_idx_1-seed{}'}"
      ]
     },
     "execution_count": 26,
     "metadata": {},
     "output_type": "execute_result"
    }
   ],
   "source": [
    "experiment_names"
   ]
  },
  {
   "cell_type": "code",
   "execution_count": 27,
   "metadata": {},
   "outputs": [
    {
     "name": "stdout",
     "output_type": "stream",
     "text": [
      "only_adv_attack_task-baseline-bert_uncased_L-4_H-256_A-4-64-2e-05-seed{}-64-0.0001-weighted_loss_prot-prot_idx_1-seed{}\n",
      "{'val/balanced_acc_adv_attack': '0.463 +- 0.018'}\n",
      "\n",
      "\n",
      "only_adv_attack_task-diff_pruning_0.05-bert_uncased_L-4_H-256_A-4-64-2e-05-seed{}-64-0.0001-weighted_loss_prot-prot_idx_1-seed{}\n",
      "{'val/balanced_acc_adv_attack': '0.497 +- 0.011'}\n",
      "\n",
      "\n",
      "only_adv_attack_task-diff_pruning_0.1-bert_uncased_L-4_H-256_A-4-64-2e-05-seed{}-64-0.0001-weighted_loss_prot-prot_idx_1-seed{}\n",
      "{'val/balanced_acc_adv_attack': '0.495 +- 0.007'}\n",
      "\n",
      "\n"
     ]
    }
   ],
   "source": [
    "for n in sorted(experiment_names):\n",
    "    scalars_to_print = ['val/acc_task', 'val/balanced_acc_adv_attack', 'val/acc_task_debiased', 'val/balanced_acc_adv_attack_debiased']\n",
    "    format_stats = lambda arr: f\"{arr[0]:.3f} +- {arr[1]:.3f}\"\n",
    "    res = {k:[_v for _k,_v in v.items() if _k == n][0] for k,v in scalar_stats.items() if k in scalars_to_print}\n",
    "    res_format = {k:format_stats(v) for k,v in res.items() if not np.isnan(v).any()}\n",
    "    print(n)\n",
    "    print(res_format)\n",
    "    print(\"\\n\")"
   ]
  },
  {
   "cell_type": "code",
   "execution_count": null,
   "metadata": {},
   "outputs": [],
   "source": [
    "n = 'adverserial-diff_pruning_0.05-bert_uncased_L-4_H-256_A-4-64-2e-05-weighted_loss_prot-gender'\n",
    "# scalars_to_print = ['val/acc_task', 'val/balanced_acc_adv_attack']\n",
    "scalars_to_print = ['val/acc_task_debiased', 'val/balanced_acc_adv_attack_debiased']\n",
    "format_stats = lambda arr: f\"{{${arr[0]*100:.1f} \\pm {arr[1]*100:.1f}$}}\"\n",
    "\n",
    "res = {k:[_v for _k,_v in v.items() if _k == n][0] for k,v in scalar_stats.items()}\n",
    "s = \" & \".join([format_stats(res[k]) for k in scalars_to_print])\n",
    "print(s)"
   ]
  },
  {
   "cell_type": "code",
   "execution_count": null,
   "metadata": {},
   "outputs": [],
   "source": []
  }
 ],
 "metadata": {
  "kernelspec": {
   "display_name": "Python 3.9.12 ('testenv')",
   "language": "python",
   "name": "python3"
  },
  "language_info": {
   "codemirror_mode": {
    "name": "ipython",
    "version": 3
   },
   "file_extension": ".py",
   "mimetype": "text/x-python",
   "name": "python",
   "nbconvert_exporter": "python",
   "pygments_lexer": "ipython3",
   "version": "3.9.12"
  },
  "orig_nbformat": 4,
  "vscode": {
   "interpreter": {
    "hash": "44fd53a9831942cc7290b70e18d76362301b009d310fe9edb8a5f7b8f5560d5f"
   }
  }
 },
 "nbformat": 4,
 "nbformat_minor": 2
}
