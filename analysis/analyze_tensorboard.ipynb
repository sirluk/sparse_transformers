{
 "cells": [
  {
   "cell_type": "code",
   "execution_count": null,
   "metadata": {},
   "outputs": [],
   "source": [
    "import os\n",
    "import pandas as pd\n",
    "import numpy as np\n",
    "from matplotlib import pyplot as plt\n",
    "import seaborn as sns\n",
    "from scipy import stats\n",
    "from tensorboard.backend.event_processing import event_accumulator\n",
    "import pickle"
   ]
  },
  {
   "cell_type": "code",
   "execution_count": 2,
   "metadata": {},
   "outputs": [],
   "source": [
    "def parse_tensorboard(path, scalars):\n",
    "    \"\"\"returns a dictionary of pandas dataframes for each requested scalar\"\"\"\n",
    "    ea = event_accumulator.EventAccumulator(\n",
    "        path,\n",
    "        size_guidance={event_accumulator.SCALARS: 0},\n",
    "    )\n",
    "    _absorb_print = ea.Reload()\n",
    "    # make sure the scalars are in the event accumulator tags\n",
    "    # assert all(\n",
    "    #     s in ea.Tags()[\"scalars\"] for s in scalars\n",
    "    # ), \"some scalars were not found in the event accumulator\"\n",
    "    res = {}\n",
    "    for s in scalars:\n",
    "        try:\n",
    "            res[s] = pd.DataFrame(ea.Scalars(s))\n",
    "        except:\n",
    "            continue\n",
    "    return res"
   ]
  },
  {
   "cell_type": "code",
   "execution_count": 3,
   "metadata": {},
   "outputs": [],
   "source": [
    "scalars = [\n",
    "    \"val/acc_adv_attack\",\n",
    "    \"val/balanced_acc_adv_attack\",\n",
    "    \"val/acc_task\",\n",
    "    \"val/balanced_acc_task\",\n",
    "    \"train/zero_ratio_adv\",\n",
    "    \"train/zero_ratio_task\",\n",
    "    \"val/acc_task_debiased\",\n",
    "    \"val/acc_protected\",\n",
    "    \"val/balanced_acc_task_debiased\",\n",
    "    \"val/balanced_acc_protected\"\n",
    "]\n",
    "# experiment_names = [\n",
    "#     'task_baseline_bert_uncased_L-4_H-256_A-4_64_2e-05',\n",
    "#     'adverserial_baseline_bert_uncased_L-4_H-256_A-4_64_2e-05',\n",
    "#     'task_diff_pruning_0.05_bert_uncased_L-4_H-256_A-4_64_2e-05',\n",
    "#     'task_diff_pruning_0.1_bert_uncased_L-4_H-256_A-4_64_2e-05',\n",
    "#     'adverserial_diff_pruning_0.05_bert_uncased_L-4_H-256_A-4_64_2e-05',\n",
    "#     'adverserial_diff_pruning_0.1_bert_uncased_L-4_H-256_A-4_64_2e-05',\n",
    "#     'modular_diff_pruning_0.05_bert_uncased_L-4_H-256_A-4_64_2e-05',\n",
    "#     'modular_diff_pruning_0.1_bert_uncased_L-4_H-256_A-4_64_2e-05'\n",
    "# ]\n",
    "experiment_names = [\n",
    "    \"only_adv_attack_bert_uncased_L-4_H-256_A-4-fixmask0.1-modular-sparse_task_64_0.0001_seed{}\",\n",
    "    \"only_adv_attack_bert_uncased_L-4_H-256_A-4-fixmask0.05-modular-sparse_task_64_0.0001_seed{}\"\n",
    "]"
   ]
  },
  {
   "cell_type": "code",
   "execution_count": 4,
   "metadata": {},
   "outputs": [],
   "source": [
    "#folder = \"/share/home/lukash/logs_bert_L4/seed{}\"\n",
    "# results = {}\n",
    "# for n in experiment_names:\n",
    "#     results[n] = []\n",
    "#     for i in range(5):\n",
    "#         filepath = os.path.join(folder.format(i), n)\n",
    "#         df = parse_tensorboard(filepath, scalars)\n",
    "#         results[n].append(df)"
   ]
  },
  {
   "cell_type": "code",
   "execution_count": null,
   "metadata": {},
   "outputs": [],
   "source": [
    "folder = \"../logs_bios\"\n",
    "results = {}\n",
    "for n in experiment_names:\n",
    "    results[n] = []\n",
    "    for i in range(5):\n",
    "        filepath = os.path.join(folder, n.format(i))\n",
    "        df = parse_tensorboard(filepath, scalars)\n",
    "        results[n].append(df)"
   ]
  },
  {
   "cell_type": "code",
   "execution_count": 5,
   "metadata": {},
   "outputs": [],
   "source": [
    "with open(\"results.pkl\", \"wb\") as f:\n",
    "    pickle.dump(results, f)"
   ]
  },
  {
   "cell_type": "code",
   "execution_count": 9,
   "metadata": {},
   "outputs": [
    {
     "data": {
      "text/plain": [
       "[       wall_time  step    value\n",
       " 39  1.655004e+09    39  0.52642,\n",
       "        wall_time  step     value\n",
       " 39  1.655949e+09    39  0.567327,\n",
       "        wall_time  step     value\n",
       " 39  1.655949e+09    39  0.554078,\n",
       "        wall_time  step     value\n",
       " 39  1.655950e+09    39  0.533058,\n",
       "        wall_time  step     value\n",
       " 39  1.655950e+09    39  0.546913]"
      ]
     },
     "execution_count": 9,
     "metadata": {},
     "output_type": "execute_result"
    }
   ],
   "source": [
    "[x[\"val/acc_adv_attack\"].tail(1) for x in results['modular_diff_pruning_0.1_bert_uncased_L-4_H-256_A-4_64_2e-05']]"
   ]
  },
  {
   "cell_type": "code",
   "execution_count": 12,
   "metadata": {},
   "outputs": [
    {
     "data": {
      "text/plain": [
       "0.5712411761283874"
      ]
     },
     "execution_count": 12,
     "metadata": {},
     "output_type": "execute_result"
    }
   ],
   "source": [
    "test = [x[\"val/acc_adv_attack\"][\"value\"].max() for x in results['modular_diff_pruning_0.1_bert_uncased_L-4_H-256_A-4_64_2e-05']]\n",
    "sum(test)/len(test)"
   ]
  },
  {
   "cell_type": "code",
   "execution_count": 5,
   "metadata": {},
   "outputs": [],
   "source": [
    "scalar_stats = {}\n",
    "for s in scalars:\n",
    "    scalar_stats[s] = {}\n",
    "    for k,v in results.items():\n",
    "            try:\n",
    "                scalar = np.array([x[s][\"value\"].max() for x in v])\n",
    "                scalar_stats[s][k] = [scalar.mean(), scalar.std()]\n",
    "            except KeyError:\n",
    "                continue\n",
    "        "
   ]
  },
  {
   "cell_type": "code",
   "execution_count": 14,
   "metadata": {},
   "outputs": [],
   "source": [
    "with open(\"stats.pkl\", \"wb\") as f:\n",
    "    pickle.dump(scalar_stats, f)"
   ]
  },
  {
   "cell_type": "code",
   "execution_count": 2,
   "metadata": {},
   "outputs": [],
   "source": [
    "with open(\"stats.pkl\", \"rb\") as f:\n",
    "    scalar_stats = pickle.load(f)"
   ]
  },
  {
   "cell_type": "code",
   "execution_count": 3,
   "metadata": {},
   "outputs": [
    {
     "data": {
      "text/plain": [
       "dict_keys(['val/acc_adv_attack', 'val/balanced_acc_adv_attack', 'val/acc_task', 'val/balanced_acc_task', 'train/zero_ratio_adv', 'train/zero_ratio_task', 'val/acc_task_debiased', 'val/acc_protected', 'val/balanced_acc_task_debiased', 'val/balanced_acc_protected'])"
      ]
     },
     "execution_count": 3,
     "metadata": {},
     "output_type": "execute_result"
    }
   ],
   "source": [
    "scalar_stats.keys()"
   ]
  },
  {
   "cell_type": "code",
   "execution_count": 6,
   "metadata": {},
   "outputs": [
    {
     "data": {
      "text/plain": [
       "{'adverserial_diff_pruning_0.05_bert_uncased_L-4_H-256_A-4_64_2e-05': [0.8344484329223633,\n",
       "  0.0005988100637620501],\n",
       " 'adverserial_diff_pruning_0.1_bert_uncased_L-4_H-256_A-4_64_2e-05': [0.8346749663352966,\n",
       "  0.00026737418148785764],\n",
       " 'modular_diff_pruning_0.05_bert_uncased_L-4_H-256_A-4_64_2e-05': [0.8346486210823059,\n",
       "  0.0006845799638344238],\n",
       " 'modular_diff_pruning_0.1_bert_uncased_L-4_H-256_A-4_64_2e-05': [0.8343114614486694,\n",
       "  0.0005864827759984568]}"
      ]
     },
     "execution_count": 6,
     "metadata": {},
     "output_type": "execute_result"
    }
   ],
   "source": [
    "scalar_stats['val/acc_task_debiased']"
   ]
  },
  {
   "cell_type": "code",
   "execution_count": 7,
   "metadata": {},
   "outputs": [
    {
     "data": {
      "text/plain": [
       "{'task_baseline_bert_uncased_L-4_H-256_A-4_64_2e-05': [0.8317353248596191,\n",
       "  0.0008140872150845018],\n",
       " 'task_diff_pruning_0.05_bert_uncased_L-4_H-256_A-4_64_2e-05': [0.835544204711914,\n",
       "  0.0006938230235159399],\n",
       " 'task_diff_pruning_0.1_bert_uncased_L-4_H-256_A-4_64_2e-05': [0.8357496619224548,\n",
       "  0.0008905420053891446],\n",
       " 'modular_diff_pruning_0.05_bert_uncased_L-4_H-256_A-4_64_2e-05': [0.8351648807525635,\n",
       "  0.0005305981033382874],\n",
       " 'modular_diff_pruning_0.1_bert_uncased_L-4_H-256_A-4_64_2e-05': [0.8353387475013733,\n",
       "  0.0004914859291633344]}"
      ]
     },
     "execution_count": 7,
     "metadata": {},
     "output_type": "execute_result"
    }
   ],
   "source": [
    "scalar_stats['val/acc_task']"
   ]
  },
  {
   "cell_type": "code",
   "execution_count": 70,
   "metadata": {},
   "outputs": [
    {
     "data": {
      "text/plain": [
       "{'adverserial_diff_pruning_0.05_bert_uncased_L-4_H-256_A-4_64_2e-05': [0.8344484329223633,\n",
       "  0.0005988100637620501],\n",
       " 'adverserial_diff_pruning_0.1_bert_uncased_L-4_H-256_A-4_64_2e-05': [0.8346749663352966,\n",
       "  0.00026737418148785764],\n",
       " 'modular_diff_pruning_0.05_bert_uncased_L-4_H-256_A-4_64_2e-05': [0.8346486210823059,\n",
       "  0.0006845799638344238],\n",
       " 'modular_diff_pruning_0.1_bert_uncased_L-4_H-256_A-4_64_2e-05': [0.8343114614486694,\n",
       "  0.0005864827759984568]}"
      ]
     },
     "execution_count": 70,
     "metadata": {},
     "output_type": "execute_result"
    }
   ],
   "source": [
    "scalar_stats['val/acc_task_debiased']"
   ]
  },
  {
   "cell_type": "code",
   "execution_count": null,
   "metadata": {},
   "outputs": [],
   "source": []
  }
 ],
 "metadata": {
  "kernelspec": {
   "display_name": "Python 3.9.12 ('testenv')",
   "language": "python",
   "name": "python3"
  },
  "language_info": {
   "codemirror_mode": {
    "name": "ipython",
    "version": 3
   },
   "file_extension": ".py",
   "mimetype": "text/x-python",
   "name": "python",
   "nbconvert_exporter": "python",
   "pygments_lexer": "ipython3",
   "version": "3.9.12"
  },
  "orig_nbformat": 4,
  "vscode": {
   "interpreter": {
    "hash": "44fd53a9831942cc7290b70e18d76362301b009d310fe9edb8a5f7b8f5560d5f"
   }
  }
 },
 "nbformat": 4,
 "nbformat_minor": 2
}
